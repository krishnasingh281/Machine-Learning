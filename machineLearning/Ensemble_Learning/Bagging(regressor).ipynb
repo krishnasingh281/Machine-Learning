{
 "cells": [
  {
   "cell_type": "code",
   "execution_count": 16,
   "id": "a67d85f9",
   "metadata": {},
   "outputs": [],
   "source": [
    "import pandas as pd \n",
    "import numpy as np \n",
    "import matplotlib.pyplot as plt \n",
    "\n",
    "from sklearn.datasets import make_regression\n",
    "from sklearn.ensemble import BaggingRegressor, RandomForestRegressor\n",
    "from sklearn.tree import DecisionTreeRegressor\n",
    "from sklearn.svm import SVR\n",
    "from sklearn.model_selection import train_test_split\n",
    "from sklearn.metrics import r2_score, mean_absolute_error, mean_squared_error"
   ]
  },
  {
   "cell_type": "code",
   "execution_count": 7,
   "id": "2fcf40fd",
   "metadata": {},
   "outputs": [],
   "source": [
    "X, y = make_regression(n_samples=10000, n_features=10, n_informative=3)\n",
    "X_train, X_test, y_train, y_test = train_test_split(X, y, test_size= 0.2, random_state=42)"
   ]
  },
  {
   "cell_type": "code",
   "execution_count": 8,
   "id": "9377974b",
   "metadata": {},
   "outputs": [
    {
     "name": "stdout",
     "output_type": "stream",
     "text": [
      "Decision Tree R2-score:  0.985945620370902\n",
      "Decision Tree MAE:  8.060109152793473\n",
      "Decision Tree MSE:  140.03330021746683\n",
      "Decision Tree RMSE:  11.8335666735548\n"
     ]
    }
   ],
   "source": [
    "model_dt = DecisionTreeRegressor(random_state=42)\n",
    "model_dt.fit(X_train, y_train)\n",
    "y_pred_dt = model_dt.predict(X_test)\n",
    "\n",
    "print(\"Decision Tree R2-score: \", r2_score(y_test, y_pred_dt))\n",
    "print(\"Decision Tree MAE: \", mean_absolute_error(y_test, y_pred_dt))\n",
    "print(\"Decision Tree MSE: \", mean_squared_error(y_test, y_pred_dt))\n",
    "print(\"Decision Tree RMSE: \", np.sqrt(mean_squared_error(y_test, y_pred_dt)))"
   ]
  },
  {
   "cell_type": "markdown",
   "id": "8221ffde",
   "metadata": {},
   "source": [
    "### Bagging\n"
   ]
  },
  {
   "cell_type": "code",
   "execution_count": 12,
   "id": "3dbc950c",
   "metadata": {},
   "outputs": [
    {
     "name": "stdout",
     "output_type": "stream",
     "text": [
      "Bagged Regressor R2-score:  0.9956187362980782\n",
      "Bagged Regressor MAE:  4.004722716010925\n",
      "Bagged Regressor MSE:  43.653496738688524\n",
      "Bagged Regressor RMSE:  6.607079289571794\n"
     ]
    }
   ],
   "source": [
    "bag = BaggingRegressor(estimator=DecisionTreeRegressor(), n_estimators=500, max_samples= 0.5, bootstrap=True, random_state=42)\n",
    "bag.fit(X_train, y_train)\n",
    "y_pred_bag = bag.predict(X_test)\n",
    "print(\"Bagged Regressor R2-score: \", r2_score(y_test, y_pred_bag))\n",
    "print(\"Bagged Regressor MAE: \", mean_absolute_error(y_test, y_pred_bag))\n",
    "print(\"Bagged Regressor MSE: \", mean_squared_error(y_test, y_pred_bag))\n",
    "print(\"Bagged Regressor RMSE: \", np.sqrt(mean_squared_error(y_test, y_pred_bag)))"
   ]
  },
  {
   "cell_type": "markdown",
   "id": "3bf63527",
   "metadata": {},
   "source": [
    "### Random Forest"
   ]
  },
  {
   "cell_type": "code",
   "execution_count": 15,
   "id": "0f5c7985",
   "metadata": {},
   "outputs": [
    {
     "name": "stdout",
     "output_type": "stream",
     "text": [
      "Random Forest R2-score:  0.9963392727137821\n",
      "Random Forest MAE:  3.6080845943791373\n",
      "Random Forest MSE:  36.474304566521525\n",
      "Random Forest RMSE:  6.0393960431918625\n"
     ]
    }
   ],
   "source": [
    "model_rf = RandomForestRegressor(random_state=42, n_estimators=500)\n",
    "model_rf.fit(X_train, y_train)\n",
    "y_pred_rf = model_rf.predict(X_test)\n",
    "\n",
    "\n",
    "print(\"Random Forest R2-score: \", r2_score(y_test, y_pred_rf))\n",
    "print(\"Random Forest MAE: \", mean_absolute_error(y_test, y_pred_rf))\n",
    "print(\"Random Forest MSE: \", mean_squared_error(y_test, y_pred_rf))\n",
    "print(\"Random Forest RMSE: \", np.sqrt(mean_squared_error(y_test, y_pred_rf)))"
   ]
  },
  {
   "cell_type": "markdown",
   "id": "97b72733",
   "metadata": {},
   "source": [
    "### Bagging using SVM"
   ]
  },
  {
   "cell_type": "code",
   "execution_count": 17,
   "id": "3bf7b186",
   "metadata": {},
   "outputs": [
    {
     "name": "stdout",
     "output_type": "stream",
     "text": [
      "Bagging using SVM R2-score:  0.8257682722426921\n",
      "Bagging using SVM MAE:  26.286065784940053\n",
      "Bagging using SVM MSE:  1735.9886728784118\n",
      "Bagging using SVM RMSE:  41.6651973819687\n"
     ]
    }
   ],
   "source": [
    "bag1 = BaggingRegressor(estimator= SVR(), n_estimators=500, max_samples= 0.5, bootstrap=True, random_state=42)\n",
    "bag1.fit(X_train, y_train)\n",
    "y_pred_bag1 = bag1.predict(X_test)\n",
    "\n",
    "print(\"Bagging using SVM R2-score: \", r2_score(y_test, y_pred_bag1))\n",
    "print(\"Bagging using SVM MAE: \", mean_absolute_error(y_test, y_pred_bag1))\n",
    "print(\"Bagging using SVM MSE: \", mean_squared_error(y_test, y_pred_bag1))\n",
    "print(\"Bagging using SVM RMSE: \", np.sqrt(mean_squared_error(y_test, y_pred_bag1)))"
   ]
  },
  {
   "cell_type": "markdown",
   "id": "5011d2c9",
   "metadata": {},
   "source": [
    "### Pasting"
   ]
  },
  {
   "cell_type": "code",
   "execution_count": 18,
   "id": "9d89c03e",
   "metadata": {},
   "outputs": [
    {
     "name": "stdout",
     "output_type": "stream",
     "text": [
      "Pasting R2-score:  0.9945146469128567\n",
      "Pasting MAE:  4.710520726927978\n",
      "Pasting MSE:  54.65428684311459\n",
      "Pasting RMSE:  7.392853768546662\n"
     ]
    }
   ],
   "source": [
    "pasting = BaggingRegressor(estimator= DecisionTreeRegressor(), n_estimators=500, max_samples= 0.25, bootstrap=False, random_state=42)\n",
    "pasting.fit(X_train, y_train)\n",
    "y_pred_pasting = pasting.predict(X_test)\n",
    "\n",
    "print(\"Pasting R2-score: \", r2_score(y_test, y_pred_pasting))\n",
    "print(\"Pasting MAE: \", mean_absolute_error(y_test, y_pred_pasting))\n",
    "print(\"Pasting MSE: \", mean_squared_error(y_test, y_pred_pasting))\n",
    "print(\"Pasting RMSE: \", np.sqrt(mean_squared_error(y_test, y_pred_pasting)))"
   ]
  },
  {
   "cell_type": "code",
   "execution_count": null,
   "id": "e3e6707b",
   "metadata": {},
   "outputs": [],
   "source": []
  }
 ],
 "metadata": {
  "kernelspec": {
   "display_name": ".venv",
   "language": "python",
   "name": "python3"
  },
  "language_info": {
   "codemirror_mode": {
    "name": "ipython",
    "version": 3
   },
   "file_extension": ".py",
   "mimetype": "text/x-python",
   "name": "python",
   "nbconvert_exporter": "python",
   "pygments_lexer": "ipython3",
   "version": "3.13.3"
  }
 },
 "nbformat": 4,
 "nbformat_minor": 5
}
