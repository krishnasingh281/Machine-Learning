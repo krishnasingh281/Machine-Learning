{
 "cells": [
  {
   "cell_type": "markdown",
   "id": "9d0c7584",
   "metadata": {},
   "source": [
    "NUMPY LIBRARY\n"
   ]
  },
  {
   "cell_type": "code",
   "execution_count": null,
   "id": "a4202592-e4b1-47dc-9c6d-5aaead3af1df",
   "metadata": {},
   "outputs": [],
   "source": [
    "import numpy as np \n",
    "print(\"hello\")\n"
   ]
  },
  {
   "cell_type": "code",
   "execution_count": null,
   "id": "f284be03-d597-4cce-a4b9-a1ebaa892c37",
   "metadata": {},
   "outputs": [],
   "source": []
  }
 ],
 "metadata": {
  "kernelspec": {
   "display_name": "Python 3 (ipykernel)",
   "language": "python",
   "name": "python3"
  },
  "language_info": {
   "codemirror_mode": {
    "name": "ipython",
    "version": 3
   },
   "file_extension": ".py",
   "mimetype": "text/x-python",
   "name": "python",
   "nbconvert_exporter": "python",
   "pygments_lexer": "ipython3",
   "version": "3.13.3"
  }
 },
 "nbformat": 4,
 "nbformat_minor": 5
}
